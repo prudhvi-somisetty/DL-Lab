{
  "nbformat": 4,
  "nbformat_minor": 0,
  "metadata": {
    "colab": {
      "name": "EXP_5_Logistic_Regression_Classifier.ipynb",
      "provenance": [],
      "collapsed_sections": [],
      "authorship_tag": "ABX9TyPREeUWqiJ9A/iGZ9Jq/tr3",
      "include_colab_link": true
    },
    "kernelspec": {
      "name": "python3",
      "display_name": "Python 3"
    },
    "language_info": {
      "name": "python"
    },
    "widgets": {
      "application/vnd.jupyter.widget-state+json": {
        "538ef81f9eab47b9bc2ce48316c28b03": {
          "model_module": "@jupyter-widgets/controls",
          "model_name": "HBoxModel",
          "state": {
            "_view_name": "HBoxView",
            "_dom_classes": [],
            "_model_name": "HBoxModel",
            "_view_module": "@jupyter-widgets/controls",
            "_model_module_version": "1.5.0",
            "_view_count": null,
            "_view_module_version": "1.5.0",
            "box_style": "",
            "layout": "IPY_MODEL_6583709892204173b6b9c47de6cd3fbb",
            "_model_module": "@jupyter-widgets/controls",
            "children": [
              "IPY_MODEL_8f52bc16524a497fb9c07bf08251a770",
              "IPY_MODEL_61dcea76fe214978a4c24bd64ac01a43"
            ]
          }
        },
        "6583709892204173b6b9c47de6cd3fbb": {
          "model_module": "@jupyter-widgets/base",
          "model_name": "LayoutModel",
          "state": {
            "_view_name": "LayoutView",
            "grid_template_rows": null,
            "right": null,
            "justify_content": null,
            "_view_module": "@jupyter-widgets/base",
            "overflow": null,
            "_model_module_version": "1.2.0",
            "_view_count": null,
            "flex_flow": null,
            "width": null,
            "min_width": null,
            "border": null,
            "align_items": null,
            "bottom": null,
            "_model_module": "@jupyter-widgets/base",
            "top": null,
            "grid_column": null,
            "overflow_y": null,
            "overflow_x": null,
            "grid_auto_flow": null,
            "grid_area": null,
            "grid_template_columns": null,
            "flex": null,
            "_model_name": "LayoutModel",
            "justify_items": null,
            "grid_row": null,
            "max_height": null,
            "align_content": null,
            "visibility": null,
            "align_self": null,
            "height": null,
            "min_height": null,
            "padding": null,
            "grid_auto_rows": null,
            "grid_gap": null,
            "max_width": null,
            "order": null,
            "_view_module_version": "1.2.0",
            "grid_template_areas": null,
            "object_position": null,
            "object_fit": null,
            "grid_auto_columns": null,
            "margin": null,
            "display": null,
            "left": null
          }
        },
        "8f52bc16524a497fb9c07bf08251a770": {
          "model_module": "@jupyter-widgets/controls",
          "model_name": "FloatProgressModel",
          "state": {
            "_view_name": "ProgressView",
            "style": "IPY_MODEL_cf999bd4ac9149c284dbbcba84dead81",
            "_dom_classes": [],
            "description": "Dl Completed...: 100%",
            "_model_name": "FloatProgressModel",
            "bar_style": "success",
            "max": 1,
            "_view_module": "@jupyter-widgets/controls",
            "_model_module_version": "1.5.0",
            "value": 1,
            "_view_count": null,
            "_view_module_version": "1.5.0",
            "orientation": "horizontal",
            "min": 0,
            "description_tooltip": null,
            "_model_module": "@jupyter-widgets/controls",
            "layout": "IPY_MODEL_802f221a890a44339dc25def2262e50d"
          }
        },
        "61dcea76fe214978a4c24bd64ac01a43": {
          "model_module": "@jupyter-widgets/controls",
          "model_name": "HTMLModel",
          "state": {
            "_view_name": "HTMLView",
            "style": "IPY_MODEL_ab6faea7f8d44cf19ae0385c6b6c8700",
            "_dom_classes": [],
            "description": "",
            "_model_name": "HTMLModel",
            "placeholder": "​",
            "_view_module": "@jupyter-widgets/controls",
            "_model_module_version": "1.5.0",
            "value": " 1/1 [00:00&lt;00:00,  3.02 url/s]",
            "_view_count": null,
            "_view_module_version": "1.5.0",
            "description_tooltip": null,
            "_model_module": "@jupyter-widgets/controls",
            "layout": "IPY_MODEL_63c26a9c81734d61989dc4f8e77acb50"
          }
        },
        "cf999bd4ac9149c284dbbcba84dead81": {
          "model_module": "@jupyter-widgets/controls",
          "model_name": "ProgressStyleModel",
          "state": {
            "_view_name": "StyleView",
            "_model_name": "ProgressStyleModel",
            "description_width": "initial",
            "_view_module": "@jupyter-widgets/base",
            "_model_module_version": "1.5.0",
            "_view_count": null,
            "_view_module_version": "1.2.0",
            "bar_color": null,
            "_model_module": "@jupyter-widgets/controls"
          }
        },
        "802f221a890a44339dc25def2262e50d": {
          "model_module": "@jupyter-widgets/base",
          "model_name": "LayoutModel",
          "state": {
            "_view_name": "LayoutView",
            "grid_template_rows": null,
            "right": null,
            "justify_content": null,
            "_view_module": "@jupyter-widgets/base",
            "overflow": null,
            "_model_module_version": "1.2.0",
            "_view_count": null,
            "flex_flow": null,
            "width": null,
            "min_width": null,
            "border": null,
            "align_items": null,
            "bottom": null,
            "_model_module": "@jupyter-widgets/base",
            "top": null,
            "grid_column": null,
            "overflow_y": null,
            "overflow_x": null,
            "grid_auto_flow": null,
            "grid_area": null,
            "grid_template_columns": null,
            "flex": null,
            "_model_name": "LayoutModel",
            "justify_items": null,
            "grid_row": null,
            "max_height": null,
            "align_content": null,
            "visibility": null,
            "align_self": null,
            "height": null,
            "min_height": null,
            "padding": null,
            "grid_auto_rows": null,
            "grid_gap": null,
            "max_width": null,
            "order": null,
            "_view_module_version": "1.2.0",
            "grid_template_areas": null,
            "object_position": null,
            "object_fit": null,
            "grid_auto_columns": null,
            "margin": null,
            "display": null,
            "left": null
          }
        },
        "ab6faea7f8d44cf19ae0385c6b6c8700": {
          "model_module": "@jupyter-widgets/controls",
          "model_name": "DescriptionStyleModel",
          "state": {
            "_view_name": "StyleView",
            "_model_name": "DescriptionStyleModel",
            "description_width": "",
            "_view_module": "@jupyter-widgets/base",
            "_model_module_version": "1.5.0",
            "_view_count": null,
            "_view_module_version": "1.2.0",
            "_model_module": "@jupyter-widgets/controls"
          }
        },
        "63c26a9c81734d61989dc4f8e77acb50": {
          "model_module": "@jupyter-widgets/base",
          "model_name": "LayoutModel",
          "state": {
            "_view_name": "LayoutView",
            "grid_template_rows": null,
            "right": null,
            "justify_content": null,
            "_view_module": "@jupyter-widgets/base",
            "overflow": null,
            "_model_module_version": "1.2.0",
            "_view_count": null,
            "flex_flow": null,
            "width": null,
            "min_width": null,
            "border": null,
            "align_items": null,
            "bottom": null,
            "_model_module": "@jupyter-widgets/base",
            "top": null,
            "grid_column": null,
            "overflow_y": null,
            "overflow_x": null,
            "grid_auto_flow": null,
            "grid_area": null,
            "grid_template_columns": null,
            "flex": null,
            "_model_name": "LayoutModel",
            "justify_items": null,
            "grid_row": null,
            "max_height": null,
            "align_content": null,
            "visibility": null,
            "align_self": null,
            "height": null,
            "min_height": null,
            "padding": null,
            "grid_auto_rows": null,
            "grid_gap": null,
            "max_width": null,
            "order": null,
            "_view_module_version": "1.2.0",
            "grid_template_areas": null,
            "object_position": null,
            "object_fit": null,
            "grid_auto_columns": null,
            "margin": null,
            "display": null,
            "left": null
          }
        },
        "26e6f329bdd8482fa2e57062c55b982a": {
          "model_module": "@jupyter-widgets/controls",
          "model_name": "HBoxModel",
          "state": {
            "_view_name": "HBoxView",
            "_dom_classes": [],
            "_model_name": "HBoxModel",
            "_view_module": "@jupyter-widgets/controls",
            "_model_module_version": "1.5.0",
            "_view_count": null,
            "_view_module_version": "1.5.0",
            "box_style": "",
            "layout": "IPY_MODEL_08bf492f6a6d4b77a3e049320f0baa84",
            "_model_module": "@jupyter-widgets/controls",
            "children": [
              "IPY_MODEL_3d98bb00570f416089dc0f4bead0c55f",
              "IPY_MODEL_934dd3c23832416284bff3cf16668a46"
            ]
          }
        },
        "08bf492f6a6d4b77a3e049320f0baa84": {
          "model_module": "@jupyter-widgets/base",
          "model_name": "LayoutModel",
          "state": {
            "_view_name": "LayoutView",
            "grid_template_rows": null,
            "right": null,
            "justify_content": null,
            "_view_module": "@jupyter-widgets/base",
            "overflow": null,
            "_model_module_version": "1.2.0",
            "_view_count": null,
            "flex_flow": null,
            "width": null,
            "min_width": null,
            "border": null,
            "align_items": null,
            "bottom": null,
            "_model_module": "@jupyter-widgets/base",
            "top": null,
            "grid_column": null,
            "overflow_y": null,
            "overflow_x": null,
            "grid_auto_flow": null,
            "grid_area": null,
            "grid_template_columns": null,
            "flex": null,
            "_model_name": "LayoutModel",
            "justify_items": null,
            "grid_row": null,
            "max_height": null,
            "align_content": null,
            "visibility": null,
            "align_self": null,
            "height": null,
            "min_height": null,
            "padding": null,
            "grid_auto_rows": null,
            "grid_gap": null,
            "max_width": null,
            "order": null,
            "_view_module_version": "1.2.0",
            "grid_template_areas": null,
            "object_position": null,
            "object_fit": null,
            "grid_auto_columns": null,
            "margin": null,
            "display": null,
            "left": null
          }
        },
        "3d98bb00570f416089dc0f4bead0c55f": {
          "model_module": "@jupyter-widgets/controls",
          "model_name": "FloatProgressModel",
          "state": {
            "_view_name": "ProgressView",
            "style": "IPY_MODEL_a9435824dc69484ea40659252fd8f4ee",
            "_dom_classes": [],
            "description": "Dl Size...: ",
            "_model_name": "FloatProgressModel",
            "bar_style": "success",
            "max": 1,
            "_view_module": "@jupyter-widgets/controls",
            "_model_module_version": "1.5.0",
            "value": 0,
            "_view_count": null,
            "_view_module_version": "1.5.0",
            "orientation": "horizontal",
            "min": 0,
            "description_tooltip": null,
            "_model_module": "@jupyter-widgets/controls",
            "layout": "IPY_MODEL_9064940644f9446e953bd565b08f28b5"
          }
        },
        "934dd3c23832416284bff3cf16668a46": {
          "model_module": "@jupyter-widgets/controls",
          "model_name": "HTMLModel",
          "state": {
            "_view_name": "HTMLView",
            "style": "IPY_MODEL_d1cb67f4c2a243c6bec62fb1576ccf75",
            "_dom_classes": [],
            "description": "",
            "_model_name": "HTMLModel",
            "placeholder": "​",
            "_view_module": "@jupyter-widgets/controls",
            "_model_module_version": "1.5.0",
            "value": " 0/0 [00:00&lt;?, ? MiB/s]",
            "_view_count": null,
            "_view_module_version": "1.5.0",
            "description_tooltip": null,
            "_model_module": "@jupyter-widgets/controls",
            "layout": "IPY_MODEL_628498de7a524051bd8f574e8a2b611e"
          }
        },
        "a9435824dc69484ea40659252fd8f4ee": {
          "model_module": "@jupyter-widgets/controls",
          "model_name": "ProgressStyleModel",
          "state": {
            "_view_name": "StyleView",
            "_model_name": "ProgressStyleModel",
            "description_width": "initial",
            "_view_module": "@jupyter-widgets/base",
            "_model_module_version": "1.5.0",
            "_view_count": null,
            "_view_module_version": "1.2.0",
            "bar_color": null,
            "_model_module": "@jupyter-widgets/controls"
          }
        },
        "9064940644f9446e953bd565b08f28b5": {
          "model_module": "@jupyter-widgets/base",
          "model_name": "LayoutModel",
          "state": {
            "_view_name": "LayoutView",
            "grid_template_rows": null,
            "right": null,
            "justify_content": null,
            "_view_module": "@jupyter-widgets/base",
            "overflow": null,
            "_model_module_version": "1.2.0",
            "_view_count": null,
            "flex_flow": null,
            "width": null,
            "min_width": null,
            "border": null,
            "align_items": null,
            "bottom": null,
            "_model_module": "@jupyter-widgets/base",
            "top": null,
            "grid_column": null,
            "overflow_y": null,
            "overflow_x": null,
            "grid_auto_flow": null,
            "grid_area": null,
            "grid_template_columns": null,
            "flex": null,
            "_model_name": "LayoutModel",
            "justify_items": null,
            "grid_row": null,
            "max_height": null,
            "align_content": null,
            "visibility": null,
            "align_self": null,
            "height": null,
            "min_height": null,
            "padding": null,
            "grid_auto_rows": null,
            "grid_gap": null,
            "max_width": null,
            "order": null,
            "_view_module_version": "1.2.0",
            "grid_template_areas": null,
            "object_position": null,
            "object_fit": null,
            "grid_auto_columns": null,
            "margin": null,
            "display": null,
            "left": null
          }
        },
        "d1cb67f4c2a243c6bec62fb1576ccf75": {
          "model_module": "@jupyter-widgets/controls",
          "model_name": "DescriptionStyleModel",
          "state": {
            "_view_name": "StyleView",
            "_model_name": "DescriptionStyleModel",
            "description_width": "",
            "_view_module": "@jupyter-widgets/base",
            "_model_module_version": "1.5.0",
            "_view_count": null,
            "_view_module_version": "1.2.0",
            "_model_module": "@jupyter-widgets/controls"
          }
        },
        "628498de7a524051bd8f574e8a2b611e": {
          "model_module": "@jupyter-widgets/base",
          "model_name": "LayoutModel",
          "state": {
            "_view_name": "LayoutView",
            "grid_template_rows": null,
            "right": null,
            "justify_content": null,
            "_view_module": "@jupyter-widgets/base",
            "overflow": null,
            "_model_module_version": "1.2.0",
            "_view_count": null,
            "flex_flow": null,
            "width": null,
            "min_width": null,
            "border": null,
            "align_items": null,
            "bottom": null,
            "_model_module": "@jupyter-widgets/base",
            "top": null,
            "grid_column": null,
            "overflow_y": null,
            "overflow_x": null,
            "grid_auto_flow": null,
            "grid_area": null,
            "grid_template_columns": null,
            "flex": null,
            "_model_name": "LayoutModel",
            "justify_items": null,
            "grid_row": null,
            "max_height": null,
            "align_content": null,
            "visibility": null,
            "align_self": null,
            "height": null,
            "min_height": null,
            "padding": null,
            "grid_auto_rows": null,
            "grid_gap": null,
            "max_width": null,
            "order": null,
            "_view_module_version": "1.2.0",
            "grid_template_areas": null,
            "object_position": null,
            "object_fit": null,
            "grid_auto_columns": null,
            "margin": null,
            "display": null,
            "left": null
          }
        },
        "90a56cafbe7544b39bf212befd3e9ee6": {
          "model_module": "@jupyter-widgets/controls",
          "model_name": "HBoxModel",
          "state": {
            "_view_name": "HBoxView",
            "_dom_classes": [],
            "_model_name": "HBoxModel",
            "_view_module": "@jupyter-widgets/controls",
            "_model_module_version": "1.5.0",
            "_view_count": null,
            "_view_module_version": "1.5.0",
            "box_style": "",
            "layout": "IPY_MODEL_c372b054dc0246a79ad74037119c8dd3",
            "_model_module": "@jupyter-widgets/controls",
            "children": [
              "IPY_MODEL_ed3271fc865c4a5f95d2f50a96bdac93",
              "IPY_MODEL_fa8673eae9034ad7aad5f9466720f548"
            ]
          }
        },
        "c372b054dc0246a79ad74037119c8dd3": {
          "model_module": "@jupyter-widgets/base",
          "model_name": "LayoutModel",
          "state": {
            "_view_name": "LayoutView",
            "grid_template_rows": null,
            "right": null,
            "justify_content": null,
            "_view_module": "@jupyter-widgets/base",
            "overflow": null,
            "_model_module_version": "1.2.0",
            "_view_count": null,
            "flex_flow": null,
            "width": null,
            "min_width": null,
            "border": null,
            "align_items": null,
            "bottom": null,
            "_model_module": "@jupyter-widgets/base",
            "top": null,
            "grid_column": null,
            "overflow_y": null,
            "overflow_x": null,
            "grid_auto_flow": null,
            "grid_area": null,
            "grid_template_columns": null,
            "flex": null,
            "_model_name": "LayoutModel",
            "justify_items": null,
            "grid_row": null,
            "max_height": null,
            "align_content": null,
            "visibility": null,
            "align_self": null,
            "height": null,
            "min_height": null,
            "padding": null,
            "grid_auto_rows": null,
            "grid_gap": null,
            "max_width": null,
            "order": null,
            "_view_module_version": "1.2.0",
            "grid_template_areas": null,
            "object_position": null,
            "object_fit": null,
            "grid_auto_columns": null,
            "margin": null,
            "display": null,
            "left": null
          }
        },
        "ed3271fc865c4a5f95d2f50a96bdac93": {
          "model_module": "@jupyter-widgets/controls",
          "model_name": "FloatProgressModel",
          "state": {
            "_view_name": "ProgressView",
            "style": "IPY_MODEL_4dacb9d621f44c85bb5cfabd37dcf746",
            "_dom_classes": [],
            "description": "",
            "_model_name": "FloatProgressModel",
            "bar_style": "info",
            "max": 1,
            "_view_module": "@jupyter-widgets/controls",
            "_model_module_version": "1.5.0",
            "value": 1,
            "_view_count": null,
            "_view_module_version": "1.5.0",
            "orientation": "horizontal",
            "min": 0,
            "description_tooltip": null,
            "_model_module": "@jupyter-widgets/controls",
            "layout": "IPY_MODEL_364b4eeff00b477e874909b753b35c60"
          }
        },
        "fa8673eae9034ad7aad5f9466720f548": {
          "model_module": "@jupyter-widgets/controls",
          "model_name": "HTMLModel",
          "state": {
            "_view_name": "HTMLView",
            "style": "IPY_MODEL_26ef748983f445efb837b6b7e57d6517",
            "_dom_classes": [],
            "description": "",
            "_model_name": "HTMLModel",
            "placeholder": "​",
            "_view_module": "@jupyter-widgets/controls",
            "_model_module_version": "1.5.0",
            "value": " 150/0 [00:00&lt;00:00, 887.44 examples/s]",
            "_view_count": null,
            "_view_module_version": "1.5.0",
            "description_tooltip": null,
            "_model_module": "@jupyter-widgets/controls",
            "layout": "IPY_MODEL_92c9f277ee1c448da0c1ee435c7a7c43"
          }
        },
        "4dacb9d621f44c85bb5cfabd37dcf746": {
          "model_module": "@jupyter-widgets/controls",
          "model_name": "ProgressStyleModel",
          "state": {
            "_view_name": "StyleView",
            "_model_name": "ProgressStyleModel",
            "description_width": "initial",
            "_view_module": "@jupyter-widgets/base",
            "_model_module_version": "1.5.0",
            "_view_count": null,
            "_view_module_version": "1.2.0",
            "bar_color": null,
            "_model_module": "@jupyter-widgets/controls"
          }
        },
        "364b4eeff00b477e874909b753b35c60": {
          "model_module": "@jupyter-widgets/base",
          "model_name": "LayoutModel",
          "state": {
            "_view_name": "LayoutView",
            "grid_template_rows": null,
            "right": null,
            "justify_content": null,
            "_view_module": "@jupyter-widgets/base",
            "overflow": null,
            "_model_module_version": "1.2.0",
            "_view_count": null,
            "flex_flow": null,
            "width": null,
            "min_width": null,
            "border": null,
            "align_items": null,
            "bottom": null,
            "_model_module": "@jupyter-widgets/base",
            "top": null,
            "grid_column": null,
            "overflow_y": null,
            "overflow_x": null,
            "grid_auto_flow": null,
            "grid_area": null,
            "grid_template_columns": null,
            "flex": null,
            "_model_name": "LayoutModel",
            "justify_items": null,
            "grid_row": null,
            "max_height": null,
            "align_content": null,
            "visibility": null,
            "align_self": null,
            "height": null,
            "min_height": null,
            "padding": null,
            "grid_auto_rows": null,
            "grid_gap": null,
            "max_width": null,
            "order": null,
            "_view_module_version": "1.2.0",
            "grid_template_areas": null,
            "object_position": null,
            "object_fit": null,
            "grid_auto_columns": null,
            "margin": null,
            "display": null,
            "left": null
          }
        },
        "26ef748983f445efb837b6b7e57d6517": {
          "model_module": "@jupyter-widgets/controls",
          "model_name": "DescriptionStyleModel",
          "state": {
            "_view_name": "StyleView",
            "_model_name": "DescriptionStyleModel",
            "description_width": "",
            "_view_module": "@jupyter-widgets/base",
            "_model_module_version": "1.5.0",
            "_view_count": null,
            "_view_module_version": "1.2.0",
            "_model_module": "@jupyter-widgets/controls"
          }
        },
        "92c9f277ee1c448da0c1ee435c7a7c43": {
          "model_module": "@jupyter-widgets/base",
          "model_name": "LayoutModel",
          "state": {
            "_view_name": "LayoutView",
            "grid_template_rows": null,
            "right": null,
            "justify_content": null,
            "_view_module": "@jupyter-widgets/base",
            "overflow": null,
            "_model_module_version": "1.2.0",
            "_view_count": null,
            "flex_flow": null,
            "width": null,
            "min_width": null,
            "border": null,
            "align_items": null,
            "bottom": null,
            "_model_module": "@jupyter-widgets/base",
            "top": null,
            "grid_column": null,
            "overflow_y": null,
            "overflow_x": null,
            "grid_auto_flow": null,
            "grid_area": null,
            "grid_template_columns": null,
            "flex": null,
            "_model_name": "LayoutModel",
            "justify_items": null,
            "grid_row": null,
            "max_height": null,
            "align_content": null,
            "visibility": null,
            "align_self": null,
            "height": null,
            "min_height": null,
            "padding": null,
            "grid_auto_rows": null,
            "grid_gap": null,
            "max_width": null,
            "order": null,
            "_view_module_version": "1.2.0",
            "grid_template_areas": null,
            "object_position": null,
            "object_fit": null,
            "grid_auto_columns": null,
            "margin": null,
            "display": null,
            "left": null
          }
        },
        "af9aeba78338479e96d97f0257b44ef7": {
          "model_module": "@jupyter-widgets/controls",
          "model_name": "HBoxModel",
          "state": {
            "_view_name": "HBoxView",
            "_dom_classes": [],
            "_model_name": "HBoxModel",
            "_view_module": "@jupyter-widgets/controls",
            "_model_module_version": "1.5.0",
            "_view_count": null,
            "_view_module_version": "1.5.0",
            "box_style": "",
            "layout": "IPY_MODEL_1bae16bb4a334c448bfaf64e14d8550a",
            "_model_module": "@jupyter-widgets/controls",
            "children": [
              "IPY_MODEL_7efb029d318842c39e0523f78c50b7e8",
              "IPY_MODEL_159a3b5a975848a1a6e6dc26b0505504"
            ]
          }
        },
        "1bae16bb4a334c448bfaf64e14d8550a": {
          "model_module": "@jupyter-widgets/base",
          "model_name": "LayoutModel",
          "state": {
            "_view_name": "LayoutView",
            "grid_template_rows": null,
            "right": null,
            "justify_content": null,
            "_view_module": "@jupyter-widgets/base",
            "overflow": null,
            "_model_module_version": "1.2.0",
            "_view_count": null,
            "flex_flow": null,
            "width": null,
            "min_width": null,
            "border": null,
            "align_items": null,
            "bottom": null,
            "_model_module": "@jupyter-widgets/base",
            "top": null,
            "grid_column": null,
            "overflow_y": null,
            "overflow_x": null,
            "grid_auto_flow": null,
            "grid_area": null,
            "grid_template_columns": null,
            "flex": null,
            "_model_name": "LayoutModel",
            "justify_items": null,
            "grid_row": null,
            "max_height": null,
            "align_content": null,
            "visibility": null,
            "align_self": null,
            "height": null,
            "min_height": null,
            "padding": null,
            "grid_auto_rows": null,
            "grid_gap": null,
            "max_width": null,
            "order": null,
            "_view_module_version": "1.2.0",
            "grid_template_areas": null,
            "object_position": null,
            "object_fit": null,
            "grid_auto_columns": null,
            "margin": null,
            "display": null,
            "left": null
          }
        },
        "7efb029d318842c39e0523f78c50b7e8": {
          "model_module": "@jupyter-widgets/controls",
          "model_name": "FloatProgressModel",
          "state": {
            "_view_name": "ProgressView",
            "style": "IPY_MODEL_cccc285ce8fa4e5e97a621c970d17d35",
            "_dom_classes": [],
            "description": "  0%",
            "_model_name": "FloatProgressModel",
            "bar_style": "danger",
            "max": 150,
            "_view_module": "@jupyter-widgets/controls",
            "_model_module_version": "1.5.0",
            "value": 0,
            "_view_count": null,
            "_view_module_version": "1.5.0",
            "orientation": "horizontal",
            "min": 0,
            "description_tooltip": null,
            "_model_module": "@jupyter-widgets/controls",
            "layout": "IPY_MODEL_d81aa8331240475a89e73e54d2db7e76"
          }
        },
        "159a3b5a975848a1a6e6dc26b0505504": {
          "model_module": "@jupyter-widgets/controls",
          "model_name": "HTMLModel",
          "state": {
            "_view_name": "HTMLView",
            "style": "IPY_MODEL_b0fdab80d84f4da9bd2ee460ab9fa153",
            "_dom_classes": [],
            "description": "",
            "_model_name": "HTMLModel",
            "placeholder": "​",
            "_view_module": "@jupyter-widgets/controls",
            "_model_module_version": "1.5.0",
            "value": " 0/150 [00:00&lt;?, ? examples/s]",
            "_view_count": null,
            "_view_module_version": "1.5.0",
            "description_tooltip": null,
            "_model_module": "@jupyter-widgets/controls",
            "layout": "IPY_MODEL_015d80d4d4f94b6abf248dbc1343c218"
          }
        },
        "cccc285ce8fa4e5e97a621c970d17d35": {
          "model_module": "@jupyter-widgets/controls",
          "model_name": "ProgressStyleModel",
          "state": {
            "_view_name": "StyleView",
            "_model_name": "ProgressStyleModel",
            "description_width": "initial",
            "_view_module": "@jupyter-widgets/base",
            "_model_module_version": "1.5.0",
            "_view_count": null,
            "_view_module_version": "1.2.0",
            "bar_color": null,
            "_model_module": "@jupyter-widgets/controls"
          }
        },
        "d81aa8331240475a89e73e54d2db7e76": {
          "model_module": "@jupyter-widgets/base",
          "model_name": "LayoutModel",
          "state": {
            "_view_name": "LayoutView",
            "grid_template_rows": null,
            "right": null,
            "justify_content": null,
            "_view_module": "@jupyter-widgets/base",
            "overflow": null,
            "_model_module_version": "1.2.0",
            "_view_count": null,
            "flex_flow": null,
            "width": null,
            "min_width": null,
            "border": null,
            "align_items": null,
            "bottom": null,
            "_model_module": "@jupyter-widgets/base",
            "top": null,
            "grid_column": null,
            "overflow_y": null,
            "overflow_x": null,
            "grid_auto_flow": null,
            "grid_area": null,
            "grid_template_columns": null,
            "flex": null,
            "_model_name": "LayoutModel",
            "justify_items": null,
            "grid_row": null,
            "max_height": null,
            "align_content": null,
            "visibility": null,
            "align_self": null,
            "height": null,
            "min_height": null,
            "padding": null,
            "grid_auto_rows": null,
            "grid_gap": null,
            "max_width": null,
            "order": null,
            "_view_module_version": "1.2.0",
            "grid_template_areas": null,
            "object_position": null,
            "object_fit": null,
            "grid_auto_columns": null,
            "margin": null,
            "display": null,
            "left": null
          }
        },
        "b0fdab80d84f4da9bd2ee460ab9fa153": {
          "model_module": "@jupyter-widgets/controls",
          "model_name": "DescriptionStyleModel",
          "state": {
            "_view_name": "StyleView",
            "_model_name": "DescriptionStyleModel",
            "description_width": "",
            "_view_module": "@jupyter-widgets/base",
            "_model_module_version": "1.5.0",
            "_view_count": null,
            "_view_module_version": "1.2.0",
            "_model_module": "@jupyter-widgets/controls"
          }
        },
        "015d80d4d4f94b6abf248dbc1343c218": {
          "model_module": "@jupyter-widgets/base",
          "model_name": "LayoutModel",
          "state": {
            "_view_name": "LayoutView",
            "grid_template_rows": null,
            "right": null,
            "justify_content": null,
            "_view_module": "@jupyter-widgets/base",
            "overflow": null,
            "_model_module_version": "1.2.0",
            "_view_count": null,
            "flex_flow": null,
            "width": null,
            "min_width": null,
            "border": null,
            "align_items": null,
            "bottom": null,
            "_model_module": "@jupyter-widgets/base",
            "top": null,
            "grid_column": null,
            "overflow_y": null,
            "overflow_x": null,
            "grid_auto_flow": null,
            "grid_area": null,
            "grid_template_columns": null,
            "flex": null,
            "_model_name": "LayoutModel",
            "justify_items": null,
            "grid_row": null,
            "max_height": null,
            "align_content": null,
            "visibility": null,
            "align_self": null,
            "height": null,
            "min_height": null,
            "padding": null,
            "grid_auto_rows": null,
            "grid_gap": null,
            "max_width": null,
            "order": null,
            "_view_module_version": "1.2.0",
            "grid_template_areas": null,
            "object_position": null,
            "object_fit": null,
            "grid_auto_columns": null,
            "margin": null,
            "display": null,
            "left": null
          }
        }
      }
    }
  },
  "cells": [
    {
      "cell_type": "markdown",
      "metadata": {
        "id": "view-in-github",
        "colab_type": "text"
      },
      "source": [
        "<a href=\"https://colab.research.google.com/github/prudhvi-somisetty/DL-Lab/blob/main/EXP_5_Logistic_Regression_Classifier.ipynb\" target=\"_parent\"><img src=\"https://colab.research.google.com/assets/colab-badge.svg\" alt=\"Open In Colab\"/></a>"
      ]
    },
    {
      "cell_type": "markdown",
      "metadata": {
        "id": "vnA3tRefyg8y"
      },
      "source": [
        "**EXP-5 (Build Logistic Regression Classifier using Neural Networks)**<br> by  Srinivas(122021601001) "
      ]
    },
    {
      "cell_type": "code",
      "metadata": {
        "id": "eZ0tv68kFIVz"
      },
      "source": [
        "import tensorflow_datasets as tfds\n",
        "import tensorflow as tf\n",
        "import numpy as np"
      ],
      "execution_count": null,
      "outputs": []
    },
    {
      "cell_type": "code",
      "metadata": {
        "id": "2HPjn63SGJ3P",
        "colab": {
          "base_uri": "https://localhost:8080/",
          "height": 232,
          "referenced_widgets": [
            "538ef81f9eab47b9bc2ce48316c28b03",
            "6583709892204173b6b9c47de6cd3fbb",
            "8f52bc16524a497fb9c07bf08251a770",
            "61dcea76fe214978a4c24bd64ac01a43",
            "cf999bd4ac9149c284dbbcba84dead81",
            "802f221a890a44339dc25def2262e50d",
            "ab6faea7f8d44cf19ae0385c6b6c8700",
            "63c26a9c81734d61989dc4f8e77acb50",
            "26e6f329bdd8482fa2e57062c55b982a",
            "08bf492f6a6d4b77a3e049320f0baa84",
            "3d98bb00570f416089dc0f4bead0c55f",
            "934dd3c23832416284bff3cf16668a46",
            "a9435824dc69484ea40659252fd8f4ee",
            "9064940644f9446e953bd565b08f28b5",
            "d1cb67f4c2a243c6bec62fb1576ccf75",
            "628498de7a524051bd8f574e8a2b611e",
            "90a56cafbe7544b39bf212befd3e9ee6",
            "c372b054dc0246a79ad74037119c8dd3",
            "ed3271fc865c4a5f95d2f50a96bdac93",
            "fa8673eae9034ad7aad5f9466720f548",
            "4dacb9d621f44c85bb5cfabd37dcf746",
            "364b4eeff00b477e874909b753b35c60",
            "26ef748983f445efb837b6b7e57d6517",
            "92c9f277ee1c448da0c1ee435c7a7c43",
            "af9aeba78338479e96d97f0257b44ef7",
            "1bae16bb4a334c448bfaf64e14d8550a",
            "7efb029d318842c39e0523f78c50b7e8",
            "159a3b5a975848a1a6e6dc26b0505504",
            "cccc285ce8fa4e5e97a621c970d17d35",
            "d81aa8331240475a89e73e54d2db7e76",
            "b0fdab80d84f4da9bd2ee460ab9fa153",
            "015d80d4d4f94b6abf248dbc1343c218"
          ]
        },
        "outputId": "b814c8df-adaf-472f-88a2-18b2067b367a"
      },
      "source": [
        "#importing the data in to X & y \n",
        "#since this is a very small dataset only train set is present \n",
        "X, y  = tfds.as_numpy(tfds.load('iris',split='train',batch_size=-1,as_supervised=True,))"
      ],
      "execution_count": null,
      "outputs": [
        {
          "output_type": "stream",
          "text": [
            "\u001b[1mDownloading and preparing dataset iris/2.0.0 (download: 4.44 KiB, generated: Unknown size, total: 4.44 KiB) to /root/tensorflow_datasets/iris/2.0.0...\u001b[0m\n"
          ],
          "name": "stdout"
        },
        {
          "output_type": "display_data",
          "data": {
            "application/vnd.jupyter.widget-view+json": {
              "model_id": "538ef81f9eab47b9bc2ce48316c28b03",
              "version_minor": 0,
              "version_major": 2
            },
            "text/plain": [
              "HBox(children=(FloatProgress(value=1.0, bar_style='info', description='Dl Completed...', max=1.0, style=Progre…"
            ]
          },
          "metadata": {
            "tags": []
          }
        },
        {
          "output_type": "display_data",
          "data": {
            "application/vnd.jupyter.widget-view+json": {
              "model_id": "26e6f329bdd8482fa2e57062c55b982a",
              "version_minor": 0,
              "version_major": 2
            },
            "text/plain": [
              "HBox(children=(FloatProgress(value=1.0, bar_style='info', description='Dl Size...', max=1.0, style=ProgressSty…"
            ]
          },
          "metadata": {
            "tags": []
          }
        },
        {
          "output_type": "stream",
          "text": [
            "\n",
            "\n",
            "\n",
            "\n"
          ],
          "name": "stdout"
        },
        {
          "output_type": "display_data",
          "data": {
            "application/vnd.jupyter.widget-view+json": {
              "model_id": "90a56cafbe7544b39bf212befd3e9ee6",
              "version_minor": 0,
              "version_major": 2
            },
            "text/plain": [
              "HBox(children=(FloatProgress(value=1.0, bar_style='info', max=1.0), HTML(value='')))"
            ]
          },
          "metadata": {
            "tags": []
          }
        },
        {
          "output_type": "stream",
          "text": [
            "\rShuffling and writing examples to /root/tensorflow_datasets/iris/2.0.0.incomplete9V3XOG/iris-train.tfrecord\n"
          ],
          "name": "stdout"
        },
        {
          "output_type": "display_data",
          "data": {
            "application/vnd.jupyter.widget-view+json": {
              "model_id": "af9aeba78338479e96d97f0257b44ef7",
              "version_minor": 0,
              "version_major": 2
            },
            "text/plain": [
              "HBox(children=(FloatProgress(value=0.0, max=150.0), HTML(value='')))"
            ]
          },
          "metadata": {
            "tags": []
          }
        },
        {
          "output_type": "stream",
          "text": [
            "\u001b[1mDataset iris downloaded and prepared to /root/tensorflow_datasets/iris/2.0.0. Subsequent calls will reuse this data.\u001b[0m\n",
            "\r"
          ],
          "name": "stdout"
        }
      ]
    },
    {
      "cell_type": "code",
      "metadata": {
        "colab": {
          "base_uri": "https://localhost:8080/"
        },
        "id": "R1sKxrdi7SZy",
        "outputId": "747034ce-8322-44ea-f0c7-3a99380f3ff6"
      },
      "source": [
        "#printing the top values of the feature variable\n",
        "X"
      ],
      "execution_count": null,
      "outputs": [
        {
          "output_type": "execute_result",
          "data": {
            "text/plain": [
              "array([[5.1, 3.4, 1.5, 0.2],\n",
              "       [7.7, 3. , 6.1, 2.3],\n",
              "       [5.7, 2.8, 4.5, 1.3],\n",
              "       [6.8, 3.2, 5.9, 2.3],\n",
              "       [5.2, 3.4, 1.4, 0.2],\n",
              "       [5.6, 2.9, 3.6, 1.3],\n",
              "       [5.5, 2.6, 4.4, 1.2],\n",
              "       [5.5, 2.4, 3.7, 1. ],\n",
              "       [4.6, 3.4, 1.4, 0.3],\n",
              "       [7.7, 2.8, 6.7, 2. ],\n",
              "       [7. , 3.2, 4.7, 1.4],\n",
              "       [4.6, 3.2, 1.4, 0.2],\n",
              "       [6.5, 3. , 5.2, 2. ],\n",
              "       [5.5, 4.2, 1.4, 0.2],\n",
              "       [5.4, 3.9, 1.3, 0.4],\n",
              "       [5. , 3.5, 1.3, 0.3],\n",
              "       [5.1, 3.8, 1.5, 0.3],\n",
              "       [4.8, 3. , 1.4, 0.1],\n",
              "       [6.5, 3. , 5.8, 2.2],\n",
              "       [7.6, 3. , 6.6, 2.1],\n",
              "       [6.7, 3.3, 5.7, 2.1],\n",
              "       [7.9, 3.8, 6.4, 2. ],\n",
              "       [6.7, 3. , 5.2, 2.3],\n",
              "       [5.8, 4. , 1.2, 0.2],\n",
              "       [6.3, 2.5, 5. , 1.9],\n",
              "       [5. , 3. , 1.6, 0.2],\n",
              "       [6.9, 3.1, 5.1, 2.3],\n",
              "       [6.1, 3. , 4.6, 1.4],\n",
              "       [5.8, 2.7, 4.1, 1. ],\n",
              "       [5.2, 2.7, 3.9, 1.4],\n",
              "       [6.7, 3. , 5. , 1.7],\n",
              "       [5.7, 2.6, 3.5, 1. ],\n",
              "       [5.8, 2.8, 5.1, 2.4],\n",
              "       [6.5, 3.2, 5.1, 2. ],\n",
              "       [5.7, 3.8, 1.7, 0.3],\n",
              "       [5.4, 3.9, 1.7, 0.4],\n",
              "       [5.2, 3.5, 1.5, 0.2],\n",
              "       [4.9, 3.1, 1.5, 0.1],\n",
              "       [5.6, 2.7, 4.2, 1.3],\n",
              "       [5. , 3.4, 1.6, 0.4],\n",
              "       [5.3, 3.7, 1.5, 0.2],\n",
              "       [6.6, 2.9, 4.6, 1.3],\n",
              "       [5.5, 3.5, 1.3, 0.2],\n",
              "       [6.7, 3.1, 4.4, 1.4],\n",
              "       [4.3, 3. , 1.1, 0.1],\n",
              "       [6.4, 3.1, 5.5, 1.8],\n",
              "       [5. , 3.2, 1.2, 0.2],\n",
              "       [5.7, 4.4, 1.5, 0.4],\n",
              "       [6. , 2.2, 4. , 1. ],\n",
              "       [6.1, 2.6, 5.6, 1.4],\n",
              "       [6.3, 2.3, 4.4, 1.3],\n",
              "       [5.2, 4.1, 1.5, 0.1],\n",
              "       [5. , 3.3, 1.4, 0.2],\n",
              "       [6.8, 2.8, 4.8, 1.4],\n",
              "       [5.4, 3.4, 1.5, 0.4],\n",
              "       [6.1, 2.8, 4.7, 1.2],\n",
              "       [5.6, 3. , 4.1, 1.3],\n",
              "       [6.4, 2.9, 4.3, 1.3],\n",
              "       [6.4, 2.8, 5.6, 2.1],\n",
              "       [5.1, 3.7, 1.5, 0.4],\n",
              "       [4.8, 3. , 1.4, 0.3],\n",
              "       [6. , 2.9, 4.5, 1.5],\n",
              "       [6. , 3. , 4.8, 1.8],\n",
              "       [5. , 3.6, 1.4, 0.2],\n",
              "       [4.7, 3.2, 1.6, 0.2],\n",
              "       [5.4, 3. , 4.5, 1.5],\n",
              "       [6.9, 3.2, 5.7, 2.3],\n",
              "       [5.8, 2.7, 5.1, 1.9],\n",
              "       [6.1, 2.8, 4. , 1.3],\n",
              "       [6.1, 3. , 4.9, 1.8],\n",
              "       [5.8, 2.7, 5.1, 1.9],\n",
              "       [6.3, 2.7, 4.9, 1.8],\n",
              "       [5.4, 3.7, 1.5, 0.2],\n",
              "       [7.1, 3. , 5.9, 2.1],\n",
              "       [6.5, 2.8, 4.6, 1.5],\n",
              "       [4.6, 3.6, 1. , 0.2],\n",
              "       [5.1, 3.5, 1.4, 0.3],\n",
              "       [5.6, 2.5, 3.9, 1.1],\n",
              "       [5.6, 2.8, 4.9, 2. ],\n",
              "       [6.7, 3.1, 4.7, 1.5],\n",
              "       [5.7, 3. , 4.2, 1.2],\n",
              "       [7.3, 2.9, 6.3, 1.8],\n",
              "       [4.5, 2.3, 1.3, 0.3],\n",
              "       [5.8, 2.7, 3.9, 1.2],\n",
              "       [6.3, 2.9, 5.6, 1.8],\n",
              "       [5.1, 3.5, 1.4, 0.2],\n",
              "       [4.9, 2.5, 4.5, 1.7],\n",
              "       [6.9, 3.1, 4.9, 1.5],\n",
              "       [6. , 2.2, 5. , 1.5],\n",
              "       [5.1, 2.5, 3. , 1.1],\n",
              "       [7.2, 3. , 5.8, 1.6],\n",
              "       [6.2, 2.9, 4.3, 1.3],\n",
              "       [4.4, 2.9, 1.4, 0.2],\n",
              "       [5.7, 2.8, 4.1, 1.3],\n",
              "       [5.7, 2.5, 5. , 2. ],\n",
              "       [5.6, 3. , 4.5, 1.5],\n",
              "       [5.1, 3.3, 1.7, 0.5],\n",
              "       [5.5, 2.3, 4. , 1.3],\n",
              "       [6.3, 3.3, 4.7, 1.6],\n",
              "       [6.3, 2.8, 5.1, 1.5],\n",
              "       [6.3, 3.4, 5.6, 2.4],\n",
              "       [6.5, 3. , 5.5, 1.8],\n",
              "       [4.6, 3.1, 1.5, 0.2],\n",
              "       [7.7, 3.8, 6.7, 2.2],\n",
              "       [5. , 2. , 3.5, 1. ],\n",
              "       [7.2, 3.6, 6.1, 2.5],\n",
              "       [6.4, 3.2, 4.5, 1.5],\n",
              "       [4.9, 3. , 1.4, 0.2],\n",
              "       [5.9, 3. , 4.2, 1.5],\n",
              "       [4.8, 3.1, 1.6, 0.2],\n",
              "       [6.3, 3.3, 6. , 2.5],\n",
              "       [6.4, 2.8, 5.6, 2.2],\n",
              "       [4.8, 3.4, 1.9, 0.2],\n",
              "       [6.7, 2.5, 5.8, 1.8],\n",
              "       [5.1, 3.8, 1.9, 0.4],\n",
              "       [5.7, 2.9, 4.2, 1.3],\n",
              "       [6.4, 2.7, 5.3, 1.9],\n",
              "       [5.4, 3.4, 1.7, 0.2],\n",
              "       [6.8, 3. , 5.5, 2.1],\n",
              "       [6.3, 2.5, 4.9, 1.5],\n",
              "       [4.4, 3.2, 1.3, 0.2],\n",
              "       [4.9, 3.1, 1.5, 0.1],\n",
              "       [7.7, 2.6, 6.9, 2.3],\n",
              "       [5. , 3.4, 1.5, 0.2],\n",
              "       [6. , 2.7, 5.1, 1.6],\n",
              "       [6.7, 3.3, 5.7, 2.5],\n",
              "       [5. , 3.5, 1.6, 0.6],\n",
              "       [6.4, 3.2, 5.3, 2.3],\n",
              "       [7.4, 2.8, 6.1, 1.9],\n",
              "       [6.9, 3.1, 5.4, 2.1],\n",
              "       [5.9, 3.2, 4.8, 1.8],\n",
              "       [5.5, 2.5, 4. , 1.3],\n",
              "       [6.2, 2.2, 4.5, 1.5],\n",
              "       [4.4, 3. , 1.3, 0.2],\n",
              "       [5. , 2.3, 3.3, 1. ],\n",
              "       [6.6, 3. , 4.4, 1.4],\n",
              "       [6.1, 2.9, 4.7, 1.4],\n",
              "       [6.2, 2.8, 4.8, 1.8],\n",
              "       [4.8, 3.4, 1.6, 0.2],\n",
              "       [5.9, 3. , 5.1, 1.8],\n",
              "       [6. , 3.4, 4.5, 1.6],\n",
              "       [7.2, 3.2, 6. , 1.8],\n",
              "       [5.8, 2.6, 4. , 1.2],\n",
              "       [4.7, 3.2, 1.3, 0.2],\n",
              "       [6.2, 3.4, 5.4, 2.3],\n",
              "       [5.1, 3.8, 1.6, 0.2],\n",
              "       [4.9, 2.4, 3.3, 1. ],\n",
              "       [6.7, 3.1, 5.6, 2.4],\n",
              "       [5.5, 2.4, 3.8, 1.1],\n",
              "       [4.9, 3.1, 1.5, 0.1]], dtype=float32)"
            ]
          },
          "metadata": {
            "tags": []
          },
          "execution_count": 3
        }
      ]
    },
    {
      "cell_type": "code",
      "metadata": {
        "colab": {
          "base_uri": "https://localhost:8080/"
        },
        "id": "HSaHFAGO7JFa",
        "outputId": "73a865cb-f499-4ab1-9a37-3f5b4a89630b"
      },
      "source": [
        "#finding unique labels in the class variable\n",
        "np.unique(y)"
      ],
      "execution_count": null,
      "outputs": [
        {
          "output_type": "execute_result",
          "data": {
            "text/plain": [
              "array([0, 1, 2])"
            ]
          },
          "metadata": {
            "tags": []
          },
          "execution_count": 4
        }
      ]
    },
    {
      "cell_type": "markdown",
      "metadata": {
        "id": "LVQNc-TZXXlm"
      },
      "source": [
        "# Preprocessing\n",
        "this is a multi class dataseet but we are trying to convert it into a binary class<br>\n",
        "0 (Iris-setosa)<br>\n",
        "1 (Iris-versicolor)<br>\n",
        "2 (Iris-virginica)<br>\n",
        "here we are converting the dataset into <br>\n",
        "0 (Iris-setosa)<br>\n",
        "1 (not a setosa)<br>\n",
        "\n",
        "keeping only sentosa and changing the rest into not a sentosa"
      ]
    },
    {
      "cell_type": "code",
      "metadata": {
        "id": "jHuvVbf2Owgu"
      },
      "source": [
        "# converting multi-class objhects to a binary class\n",
        "def convert_binary(y):\n",
        "  new_y = np.zeros(len(y),dtype=np.int8)\n",
        "  for i in range(len(y)):\n",
        "    if(y[i] != 0):\n",
        "      new_y[i] = 1\n",
        "  return new_y"
      ],
      "execution_count": null,
      "outputs": []
    },
    {
      "cell_type": "code",
      "metadata": {
        "id": "gTFNKItMPIZn",
        "colab": {
          "base_uri": "https://localhost:8080/"
        },
        "outputId": "957ae312-4c5d-4f8b-cd5e-2527d8e4d4e6"
      },
      "source": [
        "binary_y = convert_binary(y)\n",
        "np.unique(binary_y)"
      ],
      "execution_count": null,
      "outputs": [
        {
          "output_type": "execute_result",
          "data": {
            "text/plain": [
              "array([0, 1], dtype=int8)"
            ]
          },
          "metadata": {
            "tags": []
          },
          "execution_count": 6
        }
      ]
    },
    {
      "cell_type": "code",
      "metadata": {
        "id": "Bhv671clIBzf",
        "colab": {
          "base_uri": "https://localhost:8080/"
        },
        "outputId": "d77b56f4-de90-4dc8-a90f-54ab78f029bf"
      },
      "source": [
        "model = tf.keras.models.Sequential()\n",
        "model.add(tf.keras.layers.Dense(1, activation='sigmoid'))\n",
        "model.compile(loss='binary_crossentropy', optimizer='adam', metrics=['accuracy'])\n",
        "\n",
        "layer = model.layers[0]\n",
        "print(\"Initial Weights\")\n",
        "print(\"Layer:\",layer)\n",
        "print(\"layer weights:  \",layer.weights)\n",
        "print(\"layer bias initializer:  \",layer.bias_initializer)"
      ],
      "execution_count": null,
      "outputs": [
        {
          "output_type": "stream",
          "text": [
            "Initial Weights\n",
            "Layer: <tensorflow.python.keras.layers.core.Dense object at 0x7f0e330fa190>\n",
            "layer weights:   []\n",
            "layer bias initializer:   <tensorflow.python.keras.initializers.initializers_v2.Zeros object at 0x7f0e37c59690>\n"
          ],
          "name": "stdout"
        }
      ]
    },
    {
      "cell_type": "code",
      "metadata": {
        "colab": {
          "base_uri": "https://localhost:8080/"
        },
        "id": "01BgJDTILeY-",
        "outputId": "b24aefb6-f094-4a99-e0f2-2bf60421b505"
      },
      "source": [
        "history = model.fit(X,binary_y, steps_per_epoch=10, epochs=100, verbose=1, validation_split=0.3,)\n"
      ],
      "execution_count": null,
      "outputs": [
        {
          "output_type": "stream",
          "text": [
            "Epoch 1/100\n",
            "10/10 [==============================] - 1s 20ms/step - loss: 1.9551 - accuracy: 0.6571 - val_loss: 1.7407 - val_accuracy: 0.6889\n",
            "Epoch 2/100\n",
            "10/10 [==============================] - 0s 3ms/step - loss: 1.9186 - accuracy: 0.6571 - val_loss: 1.7091 - val_accuracy: 0.6889\n",
            "Epoch 3/100\n",
            "10/10 [==============================] - 0s 4ms/step - loss: 1.8821 - accuracy: 0.6571 - val_loss: 1.6781 - val_accuracy: 0.6889\n",
            "Epoch 4/100\n",
            "10/10 [==============================] - 0s 4ms/step - loss: 1.8484 - accuracy: 0.6571 - val_loss: 1.6460 - val_accuracy: 0.6889\n",
            "Epoch 5/100\n",
            "10/10 [==============================] - 0s 3ms/step - loss: 1.8118 - accuracy: 0.6571 - val_loss: 1.6147 - val_accuracy: 0.6889\n",
            "Epoch 6/100\n",
            "10/10 [==============================] - 0s 3ms/step - loss: 1.7767 - accuracy: 0.6571 - val_loss: 1.5833 - val_accuracy: 0.6889\n",
            "Epoch 7/100\n",
            "10/10 [==============================] - 0s 4ms/step - loss: 1.7399 - accuracy: 0.6571 - val_loss: 1.5525 - val_accuracy: 0.6889\n",
            "Epoch 8/100\n",
            "10/10 [==============================] - 0s 3ms/step - loss: 1.7062 - accuracy: 0.6571 - val_loss: 1.5194 - val_accuracy: 0.6889\n",
            "Epoch 9/100\n",
            "10/10 [==============================] - 0s 3ms/step - loss: 1.6680 - accuracy: 0.6571 - val_loss: 1.4886 - val_accuracy: 0.6889\n",
            "Epoch 10/100\n",
            "10/10 [==============================] - 0s 3ms/step - loss: 1.6340 - accuracy: 0.6571 - val_loss: 1.4572 - val_accuracy: 0.6889\n",
            "Epoch 11/100\n",
            "10/10 [==============================] - 0s 5ms/step - loss: 1.5986 - accuracy: 0.6571 - val_loss: 1.4260 - val_accuracy: 0.6889\n",
            "Epoch 12/100\n",
            "10/10 [==============================] - 0s 3ms/step - loss: 1.5637 - accuracy: 0.6571 - val_loss: 1.3956 - val_accuracy: 0.6889\n",
            "Epoch 13/100\n",
            "10/10 [==============================] - 0s 4ms/step - loss: 1.5300 - accuracy: 0.6571 - val_loss: 1.3645 - val_accuracy: 0.6889\n",
            "Epoch 14/100\n",
            "10/10 [==============================] - 0s 3ms/step - loss: 1.4937 - accuracy: 0.6571 - val_loss: 1.3336 - val_accuracy: 0.6889\n",
            "Epoch 15/100\n",
            "10/10 [==============================] - 0s 5ms/step - loss: 1.4564 - accuracy: 0.6571 - val_loss: 1.3042 - val_accuracy: 0.6889\n",
            "Epoch 16/100\n",
            "10/10 [==============================] - 0s 4ms/step - loss: 1.4248 - accuracy: 0.6571 - val_loss: 1.2705 - val_accuracy: 0.6889\n",
            "Epoch 17/100\n",
            "10/10 [==============================] - 0s 4ms/step - loss: 1.3874 - accuracy: 0.6571 - val_loss: 1.2390 - val_accuracy: 0.6889\n",
            "Epoch 18/100\n",
            "10/10 [==============================] - 0s 3ms/step - loss: 1.3517 - accuracy: 0.6571 - val_loss: 1.2091 - val_accuracy: 0.6889\n",
            "Epoch 19/100\n",
            "10/10 [==============================] - 0s 3ms/step - loss: 1.3198 - accuracy: 0.6571 - val_loss: 1.1766 - val_accuracy: 0.6889\n",
            "Epoch 20/100\n",
            "10/10 [==============================] - 0s 3ms/step - loss: 1.2818 - accuracy: 0.6571 - val_loss: 1.1460 - val_accuracy: 0.6889\n",
            "Epoch 21/100\n",
            "10/10 [==============================] - 0s 3ms/step - loss: 1.2469 - accuracy: 0.6571 - val_loss: 1.1154 - val_accuracy: 0.6889\n",
            "Epoch 22/100\n",
            "10/10 [==============================] - 0s 4ms/step - loss: 1.2137 - accuracy: 0.6571 - val_loss: 1.0839 - val_accuracy: 0.6889\n",
            "Epoch 23/100\n",
            "10/10 [==============================] - 0s 3ms/step - loss: 1.1802 - accuracy: 0.6571 - val_loss: 1.0534 - val_accuracy: 0.6889\n",
            "Epoch 24/100\n",
            "10/10 [==============================] - 0s 3ms/step - loss: 1.1468 - accuracy: 0.6571 - val_loss: 1.0242 - val_accuracy: 0.6889\n",
            "Epoch 25/100\n",
            "10/10 [==============================] - 0s 4ms/step - loss: 1.1138 - accuracy: 0.6571 - val_loss: 0.9956 - val_accuracy: 0.6889\n",
            "Epoch 26/100\n",
            "10/10 [==============================] - 0s 4ms/step - loss: 1.0802 - accuracy: 0.6571 - val_loss: 0.9679 - val_accuracy: 0.6889\n",
            "Epoch 27/100\n",
            "10/10 [==============================] - 0s 3ms/step - loss: 1.0493 - accuracy: 0.6571 - val_loss: 0.9383 - val_accuracy: 0.6889\n",
            "Epoch 28/100\n",
            "10/10 [==============================] - 0s 4ms/step - loss: 1.0152 - accuracy: 0.6571 - val_loss: 0.9100 - val_accuracy: 0.6889\n",
            "Epoch 29/100\n",
            "10/10 [==============================] - 0s 4ms/step - loss: 0.9845 - accuracy: 0.6571 - val_loss: 0.8803 - val_accuracy: 0.6889\n",
            "Epoch 30/100\n",
            "10/10 [==============================] - 0s 5ms/step - loss: 0.9518 - accuracy: 0.6571 - val_loss: 0.8515 - val_accuracy: 0.6889\n",
            "Epoch 31/100\n",
            "10/10 [==============================] - 0s 3ms/step - loss: 0.9195 - accuracy: 0.6571 - val_loss: 0.8244 - val_accuracy: 0.6889\n",
            "Epoch 32/100\n",
            "10/10 [==============================] - 0s 5ms/step - loss: 0.8877 - accuracy: 0.6571 - val_loss: 0.7984 - val_accuracy: 0.6889\n",
            "Epoch 33/100\n",
            "10/10 [==============================] - 0s 3ms/step - loss: 0.8591 - accuracy: 0.6571 - val_loss: 0.7704 - val_accuracy: 0.6889\n",
            "Epoch 34/100\n",
            "10/10 [==============================] - 0s 3ms/step - loss: 0.8288 - accuracy: 0.6571 - val_loss: 0.7434 - val_accuracy: 0.6889\n",
            "Epoch 35/100\n",
            "10/10 [==============================] - 0s 3ms/step - loss: 0.7975 - accuracy: 0.6571 - val_loss: 0.7179 - val_accuracy: 0.6889\n",
            "Epoch 36/100\n",
            "10/10 [==============================] - 0s 3ms/step - loss: 0.7694 - accuracy: 0.6571 - val_loss: 0.6922 - val_accuracy: 0.6889\n",
            "Epoch 37/100\n",
            "10/10 [==============================] - 0s 3ms/step - loss: 0.7396 - accuracy: 0.6571 - val_loss: 0.6676 - val_accuracy: 0.6889\n",
            "Epoch 38/100\n",
            "10/10 [==============================] - 0s 4ms/step - loss: 0.7123 - accuracy: 0.6571 - val_loss: 0.6417 - val_accuracy: 0.6889\n",
            "Epoch 39/100\n",
            "10/10 [==============================] - 0s 4ms/step - loss: 0.6836 - accuracy: 0.6571 - val_loss: 0.6164 - val_accuracy: 0.6889\n",
            "Epoch 40/100\n",
            "10/10 [==============================] - 0s 4ms/step - loss: 0.6575 - accuracy: 0.6571 - val_loss: 0.5920 - val_accuracy: 0.6889\n",
            "Epoch 41/100\n",
            "10/10 [==============================] - 0s 4ms/step - loss: 0.6297 - accuracy: 0.6571 - val_loss: 0.5702 - val_accuracy: 0.6889\n",
            "Epoch 42/100\n",
            "10/10 [==============================] - 0s 4ms/step - loss: 0.6055 - accuracy: 0.6571 - val_loss: 0.5476 - val_accuracy: 0.6889\n",
            "Epoch 43/100\n",
            "10/10 [==============================] - 0s 4ms/step - loss: 0.5806 - accuracy: 0.6571 - val_loss: 0.5260 - val_accuracy: 0.6889\n",
            "Epoch 44/100\n",
            "10/10 [==============================] - 0s 4ms/step - loss: 0.5562 - accuracy: 0.6571 - val_loss: 0.5054 - val_accuracy: 0.6889\n",
            "Epoch 45/100\n",
            "10/10 [==============================] - 0s 3ms/step - loss: 0.5340 - accuracy: 0.6571 - val_loss: 0.4843 - val_accuracy: 0.6889\n",
            "Epoch 46/100\n",
            "10/10 [==============================] - 0s 4ms/step - loss: 0.5109 - accuracy: 0.6571 - val_loss: 0.4648 - val_accuracy: 0.6889\n",
            "Epoch 47/100\n",
            "10/10 [==============================] - 0s 5ms/step - loss: 0.4904 - accuracy: 0.6571 - val_loss: 0.4459 - val_accuracy: 0.6889\n",
            "Epoch 48/100\n",
            "10/10 [==============================] - 0s 6ms/step - loss: 0.4682 - accuracy: 0.6571 - val_loss: 0.4294 - val_accuracy: 0.6889\n",
            "Epoch 49/100\n",
            "10/10 [==============================] - 0s 4ms/step - loss: 0.4502 - accuracy: 0.6571 - val_loss: 0.4117 - val_accuracy: 0.6889\n",
            "Epoch 50/100\n",
            "10/10 [==============================] - 0s 4ms/step - loss: 0.4307 - accuracy: 0.6571 - val_loss: 0.3954 - val_accuracy: 0.6889\n",
            "Epoch 51/100\n",
            "10/10 [==============================] - 0s 3ms/step - loss: 0.4138 - accuracy: 0.6571 - val_loss: 0.3791 - val_accuracy: 0.6889\n",
            "Epoch 52/100\n",
            "10/10 [==============================] - 0s 4ms/step - loss: 0.3963 - accuracy: 0.6571 - val_loss: 0.3647 - val_accuracy: 0.6889\n",
            "Epoch 53/100\n",
            "10/10 [==============================] - 0s 4ms/step - loss: 0.3808 - accuracy: 0.6571 - val_loss: 0.3509 - val_accuracy: 0.6889\n",
            "Epoch 54/100\n",
            "10/10 [==============================] - 0s 4ms/step - loss: 0.3659 - accuracy: 0.6571 - val_loss: 0.3380 - val_accuracy: 0.6889\n",
            "Epoch 55/100\n",
            "10/10 [==============================] - 0s 3ms/step - loss: 0.3526 - accuracy: 0.6667 - val_loss: 0.3252 - val_accuracy: 0.6889\n",
            "Epoch 56/100\n",
            "10/10 [==============================] - 0s 4ms/step - loss: 0.3388 - accuracy: 0.6667 - val_loss: 0.3143 - val_accuracy: 0.6889\n",
            "Epoch 57/100\n",
            "10/10 [==============================] - 0s 4ms/step - loss: 0.3266 - accuracy: 0.6667 - val_loss: 0.3041 - val_accuracy: 0.6889\n",
            "Epoch 58/100\n",
            "10/10 [==============================] - 0s 5ms/step - loss: 0.3161 - accuracy: 0.6857 - val_loss: 0.2939 - val_accuracy: 0.6889\n",
            "Epoch 59/100\n",
            "10/10 [==============================] - 0s 4ms/step - loss: 0.3049 - accuracy: 0.6952 - val_loss: 0.2848 - val_accuracy: 0.6889\n",
            "Epoch 60/100\n",
            "10/10 [==============================] - 0s 3ms/step - loss: 0.2951 - accuracy: 0.7143 - val_loss: 0.2761 - val_accuracy: 0.7111\n",
            "Epoch 61/100\n",
            "10/10 [==============================] - 0s 4ms/step - loss: 0.2860 - accuracy: 0.7238 - val_loss: 0.2677 - val_accuracy: 0.7333\n",
            "Epoch 62/100\n",
            "10/10 [==============================] - 0s 4ms/step - loss: 0.2773 - accuracy: 0.7619 - val_loss: 0.2601 - val_accuracy: 0.7778\n",
            "Epoch 63/100\n",
            "10/10 [==============================] - 0s 4ms/step - loss: 0.2691 - accuracy: 0.8000 - val_loss: 0.2533 - val_accuracy: 0.8000\n",
            "Epoch 64/100\n",
            "10/10 [==============================] - 0s 5ms/step - loss: 0.2621 - accuracy: 0.8286 - val_loss: 0.2473 - val_accuracy: 0.8222\n",
            "Epoch 65/100\n",
            "10/10 [==============================] - 0s 4ms/step - loss: 0.2559 - accuracy: 0.9048 - val_loss: 0.2415 - val_accuracy: 0.8222\n",
            "Epoch 66/100\n",
            "10/10 [==============================] - 0s 4ms/step - loss: 0.2495 - accuracy: 0.9143 - val_loss: 0.2364 - val_accuracy: 0.8889\n",
            "Epoch 67/100\n",
            "10/10 [==============================] - 0s 4ms/step - loss: 0.2439 - accuracy: 0.9429 - val_loss: 0.2317 - val_accuracy: 0.9111\n",
            "Epoch 68/100\n",
            "10/10 [==============================] - 0s 4ms/step - loss: 0.2394 - accuracy: 0.9524 - val_loss: 0.2269 - val_accuracy: 0.9778\n",
            "Epoch 69/100\n",
            "10/10 [==============================] - 0s 4ms/step - loss: 0.2341 - accuracy: 0.9619 - val_loss: 0.2230 - val_accuracy: 1.0000\n",
            "Epoch 70/100\n",
            "10/10 [==============================] - 0s 4ms/step - loss: 0.2299 - accuracy: 0.9714 - val_loss: 0.2193 - val_accuracy: 1.0000\n",
            "Epoch 71/100\n",
            "10/10 [==============================] - 0s 4ms/step - loss: 0.2262 - accuracy: 0.9714 - val_loss: 0.2157 - val_accuracy: 1.0000\n",
            "Epoch 72/100\n",
            "10/10 [==============================] - 0s 3ms/step - loss: 0.2222 - accuracy: 0.9810 - val_loss: 0.2126 - val_accuracy: 1.0000\n",
            "Epoch 73/100\n",
            "10/10 [==============================] - 0s 5ms/step - loss: 0.2189 - accuracy: 0.9810 - val_loss: 0.2095 - val_accuracy: 1.0000\n",
            "Epoch 74/100\n",
            "10/10 [==============================] - 0s 3ms/step - loss: 0.2156 - accuracy: 0.9905 - val_loss: 0.2067 - val_accuracy: 1.0000\n",
            "Epoch 75/100\n",
            "10/10 [==============================] - 0s 4ms/step - loss: 0.2125 - accuracy: 0.9905 - val_loss: 0.2042 - val_accuracy: 1.0000\n",
            "Epoch 76/100\n",
            "10/10 [==============================] - 0s 4ms/step - loss: 0.2097 - accuracy: 0.9905 - val_loss: 0.2016 - val_accuracy: 1.0000\n",
            "Epoch 77/100\n",
            "10/10 [==============================] - 0s 3ms/step - loss: 0.2073 - accuracy: 0.9905 - val_loss: 0.1989 - val_accuracy: 1.0000\n",
            "Epoch 78/100\n",
            "10/10 [==============================] - 0s 4ms/step - loss: 0.2043 - accuracy: 0.9905 - val_loss: 0.1968 - val_accuracy: 1.0000\n",
            "Epoch 79/100\n",
            "10/10 [==============================] - 0s 4ms/step - loss: 0.2020 - accuracy: 0.9905 - val_loss: 0.1947 - val_accuracy: 1.0000\n",
            "Epoch 80/100\n",
            "10/10 [==============================] - 0s 3ms/step - loss: 0.2000 - accuracy: 0.9905 - val_loss: 0.1925 - val_accuracy: 1.0000\n",
            "Epoch 81/100\n",
            "10/10 [==============================] - 0s 3ms/step - loss: 0.1976 - accuracy: 1.0000 - val_loss: 0.1906 - val_accuracy: 1.0000\n",
            "Epoch 82/100\n",
            "10/10 [==============================] - 0s 4ms/step - loss: 0.1956 - accuracy: 1.0000 - val_loss: 0.1888 - val_accuracy: 1.0000\n",
            "Epoch 83/100\n",
            "10/10 [==============================] - 0s 4ms/step - loss: 0.1937 - accuracy: 1.0000 - val_loss: 0.1869 - val_accuracy: 1.0000\n",
            "Epoch 84/100\n",
            "10/10 [==============================] - 0s 4ms/step - loss: 0.1917 - accuracy: 1.0000 - val_loss: 0.1852 - val_accuracy: 1.0000\n",
            "Epoch 85/100\n",
            "10/10 [==============================] - 0s 4ms/step - loss: 0.1899 - accuracy: 1.0000 - val_loss: 0.1834 - val_accuracy: 1.0000\n",
            "Epoch 86/100\n",
            "10/10 [==============================] - 0s 3ms/step - loss: 0.1881 - accuracy: 1.0000 - val_loss: 0.1818 - val_accuracy: 1.0000\n",
            "Epoch 87/100\n",
            "10/10 [==============================] - 0s 4ms/step - loss: 0.1863 - accuracy: 1.0000 - val_loss: 0.1802 - val_accuracy: 1.0000\n",
            "Epoch 88/100\n",
            "10/10 [==============================] - 0s 4ms/step - loss: 0.1846 - accuracy: 1.0000 - val_loss: 0.1786 - val_accuracy: 1.0000\n",
            "Epoch 89/100\n",
            "10/10 [==============================] - 0s 4ms/step - loss: 0.1829 - accuracy: 1.0000 - val_loss: 0.1770 - val_accuracy: 1.0000\n",
            "Epoch 90/100\n",
            "10/10 [==============================] - 0s 3ms/step - loss: 0.1813 - accuracy: 1.0000 - val_loss: 0.1755 - val_accuracy: 1.0000\n",
            "Epoch 91/100\n",
            "10/10 [==============================] - 0s 4ms/step - loss: 0.1798 - accuracy: 1.0000 - val_loss: 0.1739 - val_accuracy: 1.0000\n",
            "Epoch 92/100\n",
            "10/10 [==============================] - 0s 4ms/step - loss: 0.1781 - accuracy: 1.0000 - val_loss: 0.1724 - val_accuracy: 1.0000\n",
            "Epoch 93/100\n",
            "10/10 [==============================] - 0s 4ms/step - loss: 0.1765 - accuracy: 1.0000 - val_loss: 0.1710 - val_accuracy: 1.0000\n",
            "Epoch 94/100\n",
            "10/10 [==============================] - 0s 4ms/step - loss: 0.1750 - accuracy: 1.0000 - val_loss: 0.1696 - val_accuracy: 1.0000\n",
            "Epoch 95/100\n",
            "10/10 [==============================] - 0s 4ms/step - loss: 0.1736 - accuracy: 1.0000 - val_loss: 0.1681 - val_accuracy: 1.0000\n",
            "Epoch 96/100\n",
            "10/10 [==============================] - 0s 4ms/step - loss: 0.1720 - accuracy: 1.0000 - val_loss: 0.1667 - val_accuracy: 1.0000\n",
            "Epoch 97/100\n",
            "10/10 [==============================] - 0s 4ms/step - loss: 0.1706 - accuracy: 1.0000 - val_loss: 0.1653 - val_accuracy: 1.0000\n",
            "Epoch 98/100\n",
            "10/10 [==============================] - 0s 3ms/step - loss: 0.1691 - accuracy: 1.0000 - val_loss: 0.1640 - val_accuracy: 1.0000\n",
            "Epoch 99/100\n",
            "10/10 [==============================] - 0s 4ms/step - loss: 0.1677 - accuracy: 1.0000 - val_loss: 0.1626 - val_accuracy: 1.0000\n",
            "Epoch 100/100\n",
            "10/10 [==============================] - 0s 4ms/step - loss: 0.1663 - accuracy: 1.0000 - val_loss: 0.1613 - val_accuracy: 1.0000\n"
          ],
          "name": "stdout"
        }
      ]
    },
    {
      "cell_type": "code",
      "metadata": {
        "colab": {
          "base_uri": "https://localhost:8080/"
        },
        "id": "pOztT5Ve64HD",
        "outputId": "eecd6782-3eff-4cd2-e05f-d2a3d53c0411"
      },
      "source": [
        "score, accuracy = model.evaluate(X[1:75], binary_y[1:75], batch_size=16, verbose=0)\n",
        "print(\"NN-Score = {:.2f}\".format(score))\n",
        "print(\"NN-Accuracy = {:.2f}\".format(accuracy))"
      ],
      "execution_count": null,
      "outputs": [
        {
          "output_type": "stream",
          "text": [
            "NN-Score = 0.17\n",
            "NN-Accuracy = 1.00\n"
          ],
          "name": "stdout"
        }
      ]
    },
    {
      "cell_type": "code",
      "metadata": {
        "colab": {
          "base_uri": "https://localhost:8080/",
          "height": 201
        },
        "id": "gisKs3Be_Bvy",
        "outputId": "d9bf9e7f-3369-4fb6-c255-8725da92f2ce"
      },
      "source": [
        "#plotting the model of logistic regression here is is in a simple preceptron style\n",
        "tf.keras.utils.plot_model(model, show_shapes=True)"
      ],
      "execution_count": null,
      "outputs": [
        {
          "output_type": "execute_result",
          "data": {
            "image/png": "[encoded data removed]",
            "text/plain": [
              "<IPython.core.display.Image object>"
            ]
          },
          "metadata": {
            "tags": []
          },
          "execution_count": 10
        }
      ]
    },
    {
      "cell_type": "code",
      "metadata": {
        "id": "spfxbO_Y_e_q"
      },
      "source": [
        "#Confusion matrix\n",
        "y_pred = model.predict(X)"
      ],
      "execution_count": null,
      "outputs": []
    },
    {
      "cell_type": "code",
      "metadata": {
        "id": "nl0hEJaSHHrL",
        "colab": {
          "base_uri": "https://localhost:8080/"
        },
        "outputId": "cf6fc6fb-adf9-4742-85d2-fd9c582ac820"
      },
      "source": [
        "tf.math.confusion_matrix(binary_y, y_pred )"
      ],
      "execution_count": null,
      "outputs": [
        {
          "output_type": "execute_result",
          "data": {
            "text/plain": [
              "<tf.Tensor: shape=(2, 2), dtype=int32, numpy=\n",
              "array([[ 50,   0],\n",
              "       [100,   0]], dtype=int32)>"
            ]
          },
          "metadata": {
            "tags": []
          },
          "execution_count": 12
        }
      ]
    },
    {
      "cell_type": "code",
      "metadata": {
        "colab": {
          "base_uri": "https://localhost:8080/",
          "height": 518
        },
        "id": "AqVL_zNHUcyY",
        "outputId": "7e9796ec-684e-4fbd-b228-55e98992bfbb"
      },
      "source": [
        "#Plotting metric curves\n",
        "import matplotlib.pyplot as plt\n",
        "\n",
        "\n",
        "\n",
        "plt.figure(figsize=(16, 8))\n",
        "\n",
        "plt.subplot(1, 2, 1)\n",
        "plt.plot(history.history['accuracy'])\n",
        "plt.plot(history.history['val_accuracy'])\n",
        "plt.xlabel(\"Epochs\")\n",
        "plt.ylabel('accuracy')\n",
        "plt.legend(['accuracy', 'val_accuracy'])\n",
        "plt.ylim(None, 1)\n",
        "\n",
        "plt.subplot(1, 2, 2)\n",
        "plt.plot(history.history['loss'])\n",
        "plt.plot(history.history['val_loss'])\n",
        "plt.xlabel(\"Epochs\")\n",
        "plt.ylabel('loss')\n",
        "plt.legend(['loss', 'val_loss'])\n",
        "plt.ylim(0, None)"
      ],
      "execution_count": null,
      "outputs": [
        {
          "output_type": "execute_result",
          "data": {
            "text/plain": [
              "(0.0, 2.044780810922384)"
            ]
          },
          "metadata": {
            "tags": []
          },
          "execution_count": 13
        },
        {
          "output_type": "display_data",
          "data": {
            "image/png": "[encoded data removed]",
            "text/plain": [
              "<Figure size 1152x576 with 2 Axes>"
            ]
          },
          "metadata": {
            "tags": [],
            "needs_background": "light"
          }
        }
      ]
    },
    {
      "cell_type": "code",
      "metadata": {
        "id": "wvwI4CpUVR0u",
        "colab": {
          "base_uri": "https://localhost:8080/"
        },
        "outputId": "b2516d0d-ec2d-4a38-bebf-11028eb13b77"
      },
      "source": [
        "layer = model.layers[0]\n",
        "print(\"Layer:\",layer)\n",
        "print(\"layer weights:  \",layer.weights)\n",
        "print(\"layer bias:  \",layer.bias.numpy())\n",
        "print(\"layer bias initializer:  \",layer.bias_initializer)"
      ],
      "execution_count": null,
      "outputs": [
        {
          "output_type": "stream",
          "text": [
            "Layer: <tensorflow.python.keras.layers.core.Dense object at 0x7f0e330fa190>\n",
            "layer weights:   [<tf.Variable 'dense/kernel:0' shape=(4, 1) dtype=float32, numpy=\n",
            "array([[ 0.2737838 ],\n",
            "       [-0.7783373 ],\n",
            "       [ 0.5512839 ],\n",
            "       [ 0.71130985]], dtype=float32)>, <tf.Variable 'dense/bias:0' shape=(1,) dtype=float32, numpy=array([-0.6268976], dtype=float32)>]\n",
            "layer bias:   [-0.6268976]\n",
            "layer bias initializer:   <tensorflow.python.keras.initializers.initializers_v2.Zeros object at 0x7f0e37c59690>\n"
          ],
          "name": "stdout"
        }
      ]
    }
  ]
}